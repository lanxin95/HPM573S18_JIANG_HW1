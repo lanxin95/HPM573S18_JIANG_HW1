{
 "cells": [
  {
   "cell_type": "code",
   "execution_count": 11,
   "metadata": {},
   "outputs": [
    {
     "name": "stdout",
     "output_type": "stream",
     "text": [
      "17 <class 'int'>\n",
      "17.0 <class 'float'>\n",
      "17 <class 'str'>\n",
      "True <class 'bool'>\n"
     ]
    }
   ],
   "source": [
    " #\n",
    "y1=int(17)\n",
    "print(y1,type(y1))\n",
    "y2=float(17)\n",
    "print(y2,type(y2))\n",
    "y3=str(17)\n",
    "print(y3,type(y3))\n",
    "y4=(17>16)\n",
    "print(y4,type(y4))"
   ]
  },
  {
   "cell_type": "code",
   "execution_count": 24,
   "metadata": {},
   "outputs": [
    {
     "name": "stdout",
     "output_type": "stream",
     "text": [
      "The value of y1, y2, y3 is 17, 17.000000, 17.\n",
      "The value of y3 is 17.\n"
     ]
    }
   ],
   "source": [
    "# print(\"The value of y1 is %d.\" % (y1))\n",
    "text = \"The value of y1, y2, y3 is %d, %f, %s.\" % (y1,y2,y3)\n",
    "print(text)\n",
    "text = \"The value of y3 is %s.\" % (y3)\n",
    "print(text)"
   ]
  },
  {
   "cell_type": "code",
   "execution_count": 29,
   "metadata": {},
   "outputs": [
    {
     "name": "stdout",
     "output_type": "stream",
     "text": [
      "I love learning how to code!\n"
     ]
    }
   ],
   "source": [
    "a=\"I\" \n",
    "b=\"love\"\n",
    "c=\"learning\" \n",
    "d=\"how\"\n",
    "e=\"to\"\n",
    "f=\"code\"\n",
    "g=\"!\"\n",
    "text=\"%s %s %s %s %s %s%s\" % (a,b,c,d,e,f,g)\n",
    "print(text)"
   ]
  },
  {
   "cell_type": "code",
   "execution_count": null,
   "metadata": {
    "collapsed": true
   },
   "outputs": [],
   "source": []
  },
  {
   "cell_type": "code",
   "execution_count": 39,
   "metadata": {},
   "outputs": [
    {
     "name": "stdout",
     "output_type": "stream",
     "text": [
      "5050\n"
     ]
    }
   ],
   "source": [
    "#iterative operation\n",
    "mysum = 0\n",
    "n = 100\n",
    "for i in range(1,n+1):\n",
    "    mysum += i\n",
    "print(mysum)"
   ]
  },
  {
   "cell_type": "code",
   "execution_count": 46,
   "metadata": {},
   "outputs": [
    {
     "name": "stdout",
     "output_type": "stream",
     "text": [
      "5050\n"
     ]
    }
   ],
   "source": [
    "#recursive operation\n",
    "def fact(n): \n",
    "    if n == 1:\n",
    "        return 1 \n",
    "    else:\n",
    "        return n+fact(n-1)\n",
    "    \n",
    "print(fact(100))"
   ]
  },
  {
   "cell_type": "code",
   "execution_count": 52,
   "metadata": {},
   "outputs": [
    {
     "name": "stdout",
     "output_type": "stream",
     "text": [
      "['Stanford', 'SJTU', 'Yale', 'Yale', 'MIT', 'Berkeley']\n",
      "[['Stanford', 'SJTU', 'Yale'], ['Yale', 'MIT', 'Berkeley']]\n"
     ]
    }
   ],
   "source": [
    "yours=[\"Yale\", \"MIT\", \"Berkeley\"] \n",
    "mine=[\"Stanford\", \"SJTU\", \"Yale\"] \n",
    "ours1 = mine + yours\n",
    "print(ours1)\n",
    "ours2 = [] \n",
    "ours2.append(mine) \n",
    "ours2.append(yours)\n",
    "print(ours2)\n",
    "#The difference: + combine two lists into one, \n",
    "#append: a new list contain two sub-list "
   ]
  },
  {
   "cell_type": "code",
   "execution_count": 53,
   "metadata": {},
   "outputs": [
    {
     "name": "stdout",
     "output_type": "stream",
     "text": [
      "['Stanford', 'SJTU', 'Yale', 'Yale', 'MIT', 'Berkeley']\n",
      "[['Stanford', 'SJTU', 'Yale'], ['Yale', 'Harvard', 'Berkeley']]\n"
     ]
    }
   ],
   "source": [
    "yours[1]=\"Harvard\" \n",
    "print(ours1)\n",
    "print(ours2)\n",
    "#ours1 store\n",
    "#ours2 store "
   ]
  },
  {
   "cell_type": "code",
   "execution_count": 70,
   "metadata": {},
   "outputs": [
    {
     "name": "stdout",
     "output_type": "stream",
     "text": [
      "The sixth month is June.\n",
      "Feburary is month 2.\n"
     ]
    }
   ],
   "source": [
    "month_dict={\"1\":\"January\",\"2\":\"Feburary\",\"3\":\"March\",\"4\":\"April\",\"5\":\"May\",\"6\":\"June\",\"7\":\"July\",\"8\":\"August\",\"9\":\"September\",\"10\":\"October\",\"11\":\"November\",\"12\":\"December\"}\n",
    "month_dict.keys()\n",
    "month_dict[\"2\"]\n",
    "\n",
    "print(\"The sixth month is \"+ month_dict[\"6\"]+\".\")\n",
    "print(month_dict[\"2\"]+\" is month 2.\")"
   ]
  },
  {
   "cell_type": "code",
   "execution_count": null,
   "metadata": {
    "collapsed": true
   },
   "outputs": [],
   "source": []
  }
 ],
 "metadata": {
  "kernelspec": {
   "display_name": "Python 3",
   "language": "python",
   "name": "python3"
  },
  "language_info": {
   "codemirror_mode": {
    "name": "ipython",
    "version": 3
   },
   "file_extension": ".py",
   "mimetype": "text/x-python",
   "name": "python",
   "nbconvert_exporter": "python",
   "pygments_lexer": "ipython3",
   "version": "3.6.3"
  }
 },
 "nbformat": 4,
 "nbformat_minor": 2
}
