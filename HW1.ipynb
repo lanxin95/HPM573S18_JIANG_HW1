{
 "cells": [
  {
   "cell_type": "code",
   "execution_count": 7,
   "metadata": {
    "scrolled": true
   },
   "outputs": [
    {
     "name": "stdout",
     "output_type": "stream",
     "text": [
      "17 <class 'int'>\n",
      "17.0 <class 'float'>\n",
      "17 <class 'str'>\n",
      "True <class 'bool'>\n"
     ]
    }
   ],
   "source": [
    "#Problem 1: Object Types\n",
    "#1\n",
    "y1=int(17)\n",
    "print(y1,type(y1))\n",
    "y2=float(17)\n",
    "print(y2,type(y2))\n",
    "y3=str(17)\n",
    "print(y3,type(y3))\n",
    "y4=(17>16)\n",
    "print(y4,type(y4))"
   ]
  },
  {
   "cell_type": "code",
   "execution_count": 8,
   "metadata": {
    "scrolled": true
   },
   "outputs": [
    {
     "name": "stdout",
     "output_type": "stream",
     "text": [
      "The value of y1, y2, or y3 is 17, 17.000000, or 17.\n",
      "The value of y3 is 17.\n"
     ]
    }
   ],
   "source": [
    "#2\n",
    "text = \"The value of y1, y2, or y3 is %d, %f, or %s.\" % (y1,y2,y3)\n",
    "print(text)\n",
    "text = \"The value of y3 is %s.\" % (y3)\n",
    "print(text)"
   ]
  },
  {
   "cell_type": "code",
   "execution_count": 9,
   "metadata": {},
   "outputs": [
    {
     "name": "stdout",
     "output_type": "stream",
     "text": [
      "I love learning how to code!\n"
     ]
    }
   ],
   "source": [
    "#Problem 2: String Operations\n",
    "a=\"I\"\n",
    "b=\"love\"\n",
    "c=\"learning\"\n",
    "d=\"how\"\n",
    "e=\"to\"\n",
    "f=\"code\"\n",
    "g=\"!\"\n",
    "text=\"%s %s %s %s %s %s%s\" % (a,b,c,d,e,f,g)\n",
    "print(text)"
   ]
  },
  {
   "cell_type": "code",
   "execution_count": 10,
   "metadata": {},
   "outputs": [
    {
     "name": "stdout",
     "output_type": "stream",
     "text": [
      "5050\n"
     ]
    }
   ],
   "source": [
    "#Problem 3: Iterative and Recursive Operations\n",
    "#iterative operation\n",
    "def iterative(n):\n",
    "    mysum = 0\n",
    "    for i in range(1,n+1):\n",
    "        mysum += i\n",
    "    return(mysum)\n",
    "\n",
    "print(iterative(100))"
   ]
  },
  {
   "cell_type": "code",
   "execution_count": 3,
   "metadata": {},
   "outputs": [
    {
     "name": "stdout",
     "output_type": "stream",
     "text": [
      "5050\n"
     ]
    }
   ],
   "source": [
    "# recursive operation\n",
    "def fact(n):\n",
    "    if n == 1:\n",
    "        return 1\n",
    "    else:\n",
    "        return n + fact(n - 1)"
   ]
  },
  {
   "cell_type": "code",
   "execution_count": 4,
   "metadata": {},
   "outputs": [
    {
     "name": "stdout",
     "output_type": "stream",
     "text": [
      "['Stanford', 'SJTU', 'Yale', 'Yale', 'MIT', 'Berkeley']\n",
      "[['Stanford', 'SJTU', 'Yale'], ['Yale', 'MIT', 'Berkeley']]\n"
     ]
    }
   ],
   "source": [
    "#Problem 4: Lists and Mutability\n",
    "yours=[\"Yale\", \"MIT\", \"Berkeley\"]\n",
    "mine=[\"Stanford\", \"SJTU\", \"Yale\"]\n",
    "ours1 = mine + yours\n",
    "\n",
    "ours2 = []\n",
    "ours2.append(mine)\n",
    "ours2.append(yours)\n",
    "\n",
    "#1. Print ours1 and ours2. Describe how ours1 and ours2 differ from each other.\n",
    "print(ours1)\n",
    "print(ours2)\n",
    "#Ours1: \"+ operator\" combines the two lists, yours and mine, together, and creates a new list ours1. It concatenates the elements from yours and mine to the new list. \n",
    "#Ours2: \"append\" mutates the list and adds the list \"mine\" as the element to the end of the list mine. Thus, ours2 is a list with the elements of two lists."
   ]
  },
  {
   "cell_type": "code",
   "execution_count": 12,
   "metadata": {},
   "outputs": [
    {
     "name": "stdout",
     "output_type": "stream",
     "text": [
      "['Stanford', 'SJTU', 'Yale', 'Yale', 'MIT', 'Berkeley']\n",
      "[['Stanford', 'SJTU', 'Yale'], ['Yale', 'Harvard', 'Berkeley']]\n",
      "['Yale', 'Harvard', 'Berkeley']\n"
     ]
    }
   ],
   "source": [
    "#2. Change the second element of yours to something else and again print ours1 and ours2. Explain why changing yours would changes ours2 but not ours1.2. \n",
    "yours[1]=\"Harvard\"\n",
    "print(ours1)\n",
    "print(ours2)\n",
    "#Because a list is an object in memory, and it is mutable. By using a key phrase to change an object,such as append here, any variable points to that object will be affected. \n",
    "#Thus, changing the element in yours would also influence ours2."
   ]
  },
  {
   "cell_type": "code",
   "execution_count": 13,
   "metadata": {},
   "outputs": [
    {
     "name": "stdout",
     "output_type": "stream",
     "text": [
      "The sixth month is June.\n",
      "Feburary is month 2.\n"
     ]
    }
   ],
   "source": [
    "#Problem 5: Dictionaries \n",
    "month_dict={\"1\":\"January\",\"2\":\"Feburary\",\"3\":\"March\",\"4\":\"April\",\"5\":\"May\",\"6\":\"June\",\"7\":\"July\",\"8\":\"August\",\"9\":\"September\",\"10\":\"October\",\"11\":\"November\",\"12\":\"December\"}\n",
    "month_dict.keys()\n",
    "month_dict[\"2\"]\n",
    "\n",
    "print(\"The sixth month is \"+ month_dict[\"6\"]+\".\")\n",
    "print(month_dict[\"2\"]+\" is month 2.\")"
   ]
  }
 ],
 "metadata": {
  "kernelspec": {
   "display_name": "Python 3",
   "language": "python",
   "name": "python3"
  },
  "language_info": {
   "codemirror_mode": {
    "name": "ipython",
    "version": 3
   },
   "file_extension": ".py",
   "mimetype": "text/x-python",
   "name": "python",
   "nbconvert_exporter": "python",
   "pygments_lexer": "ipython3",
   "version": "3.6.3"
  }
 },
 "nbformat": 4,
 "nbformat_minor": 2
}
